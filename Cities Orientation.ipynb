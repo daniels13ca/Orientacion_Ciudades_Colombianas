{
 "cells": [
  {
   "cell_type": "markdown",
   "metadata": {},
   "source": [
    "# Orientación de las calles en las ciudades colombianas\n",
    "\n",
    "A partir del <a href=https://github.com/gboeing/osmnx-examples/blob/master/notebooks/17-street-network-orientations.ipynb><strong>ejemplo original</strong></a> publicado por <a href=https://github.com/gboeing><strong>Geoff Boeing</strong></a>, creador de la librería OSMNX, se me ocurrió realizar un ejercicio rápido para analizar de forma descriptiva el trazado urbano de las ciudades de Colombia y de forma implicita pobrar la librería mencionada."
   ]
  },
  {
   "cell_type": "markdown",
   "metadata": {},
   "source": [
    "## Prerrequisitos\n",
    "\n",
    "#### Tener instalado Anaconda\n",
    "\n",
    "Si bien no es indispensable, para seguir este tutorial recomiendo instalar el IDE <a href=https://www.anaconda.com/distribution/><strong>Anaconda</strong></a>\n",
    "\n",
    "#### Librerías necesarias\n",
    "\n",
    "Adicionalmente es requerido tener instaladas la siguientes librerías:\n",
    "- numpy\n",
    "- pandas\n",
    "\n",
    "#### Instalar OSMNX\n",
    "\n",
    "Esto se hace desde una ventana de comandos (con permisos de administrador) con la siguiente instrucción:\n",
    "\n",
    "conda install -c conda-forge osmnx"
   ]
  },
  {
   "cell_type": "markdown",
   "metadata": {},
   "source": [
    "## Cargue de librerías y validación de la versión de OMNX"
   ]
  },
  {
   "cell_type": "code",
   "execution_count": 1,
   "metadata": {},
   "outputs": [
    {
     "data": {
      "text/plain": [
       "'0.10'"
      ]
     },
     "execution_count": 1,
     "metadata": {},
     "output_type": "execute_result"
    }
   ],
   "source": [
    "import matplotlib.pyplot as plt\n",
    "import numpy as np\n",
    "import osmnx as ox\n",
    "import pandas as pd\n",
    "\n",
    "ox.config(log_console=True, use_cache=True)\n",
    "weight_by_length = False\n",
    "\n",
    "ox.__version__"
   ]
  },
  {
   "cell_type": "markdown",
   "metadata": {},
   "source": [
    "## Definición del listado de ciudades a consultar\n",
    "\n",
    "Se debe crear una lista en la que el label será el nombre de la ciudad y el valor el query a consultar en Open Street Maps. Es indispensable asegurar previamente que el query retorna un objeto de tipo POLYGON. Para el caso de Colombia muchos de los querys que permiten consultar las fronteras de las ciudades no retonran el tipo de dato adecuado para este API, así que usaré un método alternativo que consiste en consultar las calles que se encuentran a cierta distancia desde un punto determinado."
   ]
  },
  {
   "cell_type": "code",
   "execution_count": 2,
   "metadata": {},
   "outputs": [],
   "source": [
    "places = {'Barranquilla'  : 'Barranquilla, Atlántico, Colombia',\n",
    "          'Bogotá'        : 'Bogota, Bogota Capital District, Colombia',\n",
    "          'Manizales'     : 'Manizales, Centrosur, Caldas, Colombia',\n",
    "          'Florencia'     : 'Florencia, Caquetá, Colombia',\n",
    "          'Popayán'       : 'Popayán, Cauca, Colombia',\n",
    "          'Valledupar'    : 'Valledupar, Cesar, Colombia',\n",
    "          'Quibdó'        : 'Quibdó, Chocó, Colombia',\n",
    "          'Montería'      : 'Montería, Córdoba, Colombia',\n",
    "          'Neiva'         : 'Neiva, Huila, Colombia',\n",
    "          'Riohacha'      : 'Riohacha, La Guajira, Colombia', \n",
    "          'Villavicencio' : 'Villavicencio, Meta, Colombia',\n",
    "          'Pasto'         : 'Pasto, Nariño, Colombia',\n",
    "          'Mocoa'         : 'Mocoa, Putumayo, 860001, Colombia', \n",
    "          'Armenia'       : 'Armenia, Quindío, Colombia', \n",
    "          'Pereira'       : 'Pereira, Risaralda, Colombia',\n",
    "          'Bucaramanga'   : 'Bucaramanga, Santander, Colombia', \n",
    "          'Sincelejo'     : 'Sincelejo, Sucre, Colombia',\n",
    "          'Ibagué'        : 'Ibagué, Tolima, Colombia',\n",
    "          'Cali'          : 'Cali, Valle del Cauca, Colombia',\n",
    "          'Medellín'      : 'Medellín, Zona Urbana Medellín, Medellín, Valle de Aburrá, Antioquia, 0500, Colombia',\n",
    "          'Tunja'         : 'Tunja, Boyacá, 15001000, Colombia',\n",
    "          'Mitú'          : 'Mitú, Vaupés, Colombia',\n",
    "          'Arauca'        : 'Arauca, 80001, Colombia',\n",
    "          'Cartagena'     : 'Cartagena, Cartagena de Indias, Bolívar, 130015, Colombia',\n",
    "          'Yopal'         : 'Yopal, Casanare, 850001, Colombia',\n",
    "          'San José G.'   : 'San José del Guaviare, Guaviare, 95001, Colombia',\n",
    "          'Cúcuta'        : 'Cúcuta, Norte de Santander, 047, Colombia',\n",
    "          'Puerto Carreño': 'Puerto Carreño, Vichada, 990001-990017, Colombia',\n",
    "          'Santa Marta'   : 'Santa Marta, Magdalena, 575, Colombia'\n",
    "          #'San Andrés'    : 'San Andrés, Archipiélago de San Andrés, Providencia y Santa Catalina, 123, Colombia'\n",
    "          #'Inirida'       : 'Inírida, Guainía, 940001, Colombia'\n",
    "          #'Leticia'       : 'Leticia, Amazonas, Colombia'\n",
    "         }"
   ]
  },
  {
   "cell_type": "markdown",
   "metadata": {},
   "source": [
    "### Validación del tipo de objetos retornados"
   ]
  },
  {
   "cell_type": "code",
   "execution_count": 3,
   "metadata": {},
   "outputs": [],
   "source": [
    "# Retorna un GeoDataFrame a partir de una lista de valores \"query\" a consultar en OSM\n",
    "# Como ya se mencionó, para el caso de este ejemplo esta sección no se utiliza\n",
    "\n",
    "#gdf = ox.gdf_from_places(places.values())\n",
    "#gdf"
   ]
  },
  {
   "cell_type": "markdown",
   "metadata": {},
   "source": [
    "En caso que alguno de los objetos retornados no sean POLYGON es necesario eliminar esta ciudad de la lista.\n",
    "\n",
    "### Definición de la función que determina la orientación opuesta de una dirección"
   ]
  },
  {
   "cell_type": "code",
   "execution_count": 4,
   "metadata": {},
   "outputs": [],
   "source": [
    "# Obtiene la orientación contrario para un valor en grados\n",
    "def reverse_bearing(x):\n",
    "    return x + 180 if x < 180 else x - 180"
   ]
  },
  {
   "cell_type": "code",
   "execution_count": 5,
   "metadata": {},
   "outputs": [],
   "source": [
    "# Creación de los pares de valores que indican la magnitud de calles en una dirección y su opuesto\n",
    "bearings = {}\n",
    "for place in sorted(places.keys()):\n",
    "    \n",
    "    # Obtiene un GeoDataFrame para un único query de consulta en OSM\n",
    "    query = places[place]\n",
    "    \n",
    "    # Para las consultas que retornan un objeto POLYGON se utilizaría la siguiente instrucción:\n",
    "    #G = ox.graph_from_place(query, network_type='drive')\n",
    "    \n",
    "    # Para consultar a partir de un punto se utiliza (5K metros desde el punto de consulta):\n",
    "    G = ox.graph_from_address(query, distance=5000, network_type='drive')\n",
    "    \n",
    "    # Primero convierte el grafo dirgido de los bordes del polígono en un grafo no dirigido\n",
    "    # A continuación agrega la orientación de cada punto del borde como un atributo\n",
    "    Gu = ox.add_edge_bearings(ox.get_undirected(G))\n",
    "    \n",
    "    # Por defecto esta variable se inicializa en False\n",
    "    if weight_by_length:\n",
    "        # Crea un estructura con las direcciones de los bordes y sus opuestos\n",
    "        city_bearings = []\n",
    "        for u, v, k, d in Gu.edges(keys=True, data=True):\n",
    "            city_bearings.extend([d['bearing']] * int(d['length']))\n",
    "        b = pd.Series(city_bearings)\n",
    "        bearings[place] = pd.concat([b, b.map(reverse_bearing)]).reset_index(drop='True')\n",
    "    else:\n",
    "        # Crea un estructura con las direcciones de los bordes y sus opuestos\n",
    "        b = pd.Series([d['bearing'] for u, v, k, d in Gu.edges(keys=True, data=True)])\n",
    "        bearings[place] = pd.concat([b, b.map(reverse_bearing)]).reset_index(drop='True')"
   ]
  },
  {
   "cell_type": "code",
   "execution_count": 6,
   "metadata": {},
   "outputs": [],
   "source": [
    "# Ajusta los valores con orientaciones extremas\n",
    "def count_and_merge(n, bearings):\n",
    "    # Asignación de los valores opuestos para evitar redundancia de valores en 0° y 360°\n",
    "    n = n * 2\n",
    "    bins = np.arange(n + 1) * 360 / n\n",
    "    count, _ = np.histogram(bearings, bins=bins)\n",
    "    \n",
    "    # Agrupación de los valores límites\n",
    "    count = np.roll(count, 1)\n",
    "    return count[::2] + count[1::2]"
   ]
  },
  {
   "cell_type": "markdown",
   "metadata": {},
   "source": [
    "### Función que dibuja un plano polar para las orientaciones de las calles"
   ]
  },
  {
   "cell_type": "code",
   "execution_count": 7,
   "metadata": {},
   "outputs": [],
   "source": [
    "# Crea el mapa polar para cada una de las ubicaciones\n",
    "def polar_plot(ax, bearings, n=36, title=''):\n",
    "\n",
    "    bins = np.arange(n + 1) * 360 / n\n",
    "    count = count_and_merge(n, bearings)\n",
    "    _, division = np.histogram(bearings, bins=bins)\n",
    "    frequency = count / count.sum()\n",
    "    division = division[0:-1]\n",
    "    width =  2 * np.pi / n\n",
    "\n",
    "    ax.set_theta_zero_location('N')\n",
    "    ax.set_theta_direction('clockwise')\n",
    "\n",
    "    x = division * np.pi / 180\n",
    "    bars = ax.bar(x, height=frequency, width=width, align='center', bottom=0, zorder=2,\n",
    "                  color='#003366', edgecolor='k', linewidth=0.5, alpha=0.7)\n",
    "    \n",
    "    ax.set_ylim(top=frequency.max())\n",
    "    \n",
    "    title_font = {'family':'sans-serif', 'size':24, 'weight':'bold'}\n",
    "    xtick_font = {'family':'sans-serif', 'size':10, 'weight':'bold', 'alpha':1.0, 'zorder':3}\n",
    "    ytick_font = {'family':'sans-serif', 'size': 9, 'weight':'bold', 'alpha':0.2, 'zorder':3}\n",
    "    \n",
    "    ax.set_title(title.upper(), y=1.05, fontdict=title_font)\n",
    "    \n",
    "    ax.set_yticks(np.linspace(0, max(ax.get_ylim()), 5))\n",
    "    yticklabels = ['{:.2f}'.format(y) for y in ax.get_yticks()]\n",
    "    yticklabels[0] = ''\n",
    "    ax.set_yticklabels(labels=yticklabels, fontdict=ytick_font)\n",
    "    \n",
    "    xticklabels = ['N', '', 'E', '', 'S', '', 'W', '']\n",
    "    ax.set_xticklabels(labels=xticklabels, fontdict=xtick_font)\n",
    "    ax.tick_params(axis='x', which='major', pad=-2)"
   ]
  },
  {
   "cell_type": "code",
   "execution_count": 8,
   "metadata": {},
   "outputs": [],
   "source": [
    "# Crear el plano y los ejes a partir de la cantidad de lugares\n",
    "n = len(places)\n",
    "ncols = int(np.ceil(np.sqrt(n)))\n",
    "nrows = int(np.ceil(n / ncols))\n",
    "figsize = (ncols * 5, nrows * 5)\n",
    "fig, axes = plt.subplots(nrows, ncols, figsize=figsize, subplot_kw={'projection':'polar'})\n",
    "\n",
    "# Dibujar el histograma polar de cada ciudad\n",
    "for ax, place in zip(axes.flat, sorted(places.keys())):\n",
    "    polar_plot(ax, bearings[place].dropna(), title=place)\n",
    "\n",
    "# Agregar el título y salva la imagen\n",
    "suptitle_font = {'family':'sans-serif', 'fontsize':60, 'fontweight':'normal', 'y':1.07}\n",
    "fig.suptitle('Orientación de las calles', **suptitle_font)\n",
    "fig.tight_layout()\n",
    "fig.subplots_adjust(hspace=0.35)\n",
    "fig.savefig('images/street-orientations.png', dpi=120, bbox_inches='tight')\n",
    "plt.close()"
   ]
  }
 ],
 "metadata": {
  "kernelspec": {
   "display_name": "Python 3",
   "language": "python",
   "name": "python3"
  },
  "language_info": {
   "codemirror_mode": {
    "name": "ipython",
    "version": 3
   },
   "file_extension": ".py",
   "mimetype": "text/x-python",
   "name": "python",
   "nbconvert_exporter": "python",
   "pygments_lexer": "ipython3",
   "version": "3.7.3"
  }
 },
 "nbformat": 4,
 "nbformat_minor": 2
}
